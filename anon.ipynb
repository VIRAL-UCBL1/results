{
 "cells": [
  {
   "cell_type": "code",
   "execution_count": 2,
   "id": "8c5693d7",
   "metadata": {},
   "outputs": [],
   "source": [
    "import os\n",
    "import uuid\n",
    "\n",
    "csv_folder = 'csv'\n",
    "\n",
    "if not os.path.exists(csv_folder):\n",
    "    print(f\"The folder '{csv_folder}' does not exist.\")\n",
    "else:\n",
    "    csv_files = [f for f in os.listdir(csv_folder) if f.endswith('.csv')]\n",
    "    \n",
    "    if not csv_files:\n",
    "        print(f\"No CSV files found in '{csv_folder}'.\")\n",
    "    else:\n",
    "        for file in csv_files:\n",
    "            old_path = os.path.join(csv_folder, file)\n",
    "            new_name = f\"anonymized_{uuid.uuid4().hex}.csv\"\n",
    "            new_path = os.path.join(csv_folder, new_name)\n",
    "            \n",
    "            os.rename(old_path, new_path)"
   ]
  }
 ],
 "metadata": {
  "kernelspec": {
   "display_name": "p313",
   "language": "python",
   "name": "python3"
  },
  "language_info": {
   "codemirror_mode": {
    "name": "ipython",
    "version": 3
   },
   "file_extension": ".py",
   "mimetype": "text/x-python",
   "name": "python",
   "nbconvert_exporter": "python",
   "pygments_lexer": "ipython3",
   "version": "3.13.1"
  }
 },
 "nbformat": 4,
 "nbformat_minor": 5
}
