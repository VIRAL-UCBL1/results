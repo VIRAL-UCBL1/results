{
 "cells": [
  {
   "cell_type": "markdown",
   "id": "0489ccdd",
   "metadata": {},
   "source": [
    "# Analysis"
   ]
  },
  {
   "cell_type": "code",
   "execution_count": null,
   "id": "27b8c757",
   "metadata": {},
   "outputs": [],
   "source": [
    "import pandas as pd\n",
    "import numpy as np\n",
    "import os"
   ]
  },
  {
   "cell_type": "code",
   "execution_count": null,
   "id": "75aae3d7",
   "metadata": {},
   "outputs": [],
   "source": [
    "big_data = None\n",
    "DIR = './csv/'\n",
    "for file in os.listdir(DIR):\n",
    "\tdata = pd.read_csv(DIR+file)\n",
    "\tbig_data = pd.concat((big_data,data))\n",
    "big_data"
   ]
  },
  {
   "cell_type": "code",
   "execution_count": null,
   "id": "ceff63bc",
   "metadata": {},
   "outputs": [],
   "source": [
    "big_data_wu = big_data[big_data['understand'] >= 3]\n",
    "big_data_bu = big_data[big_data['understand'] < 3]"
   ]
  },
  {
   "cell_type": "code",
   "execution_count": null,
   "id": "18639ff2",
   "metadata": {},
   "outputs": [],
   "source": [
    "for env in big_data.environment.unique():\n",
    "\tdisplay(env)\n",
    "\tfor src in big_data.source.unique():\n",
    "\t\tdisplay(src)\n",
    "\t\tfiltered_data_wu = big_data_wu[(big_data_wu['environment'] == env) & (big_data_wu['source'] == src)]\n",
    "\t\tfiltered_data_bu = big_data_bu[(big_data_bu['environment'] == env) & (big_data_bu['source'] == src)]\n",
    "\t\tdisplay(filtered_data_wu['rating'].describe() - filtered_data_bu['rating'].describe())\n"
   ]
  },
  {
   "cell_type": "code",
   "execution_count": null,
   "id": "094c858e",
   "metadata": {},
   "outputs": [],
   "source": [
    "big_data['environment'].value_counts()"
   ]
  },
  {
   "cell_type": "code",
   "execution_count": null,
   "id": "75948be3",
   "metadata": {},
   "outputs": [],
   "source": [
    "big_data['source'].value_counts()"
   ]
  },
  {
   "cell_type": "code",
   "execution_count": null,
   "id": "c4dd4bc0",
   "metadata": {},
   "outputs": [],
   "source": [
    "big_data['understand'].describe()"
   ]
  },
  {
   "cell_type": "code",
   "execution_count": null,
   "id": "4fac653a",
   "metadata": {},
   "outputs": [],
   "source": [
    "big_data['rating'].value_counts()"
   ]
  },
  {
   "cell_type": "code",
   "execution_count": null,
   "id": "a71f2538",
   "metadata": {},
   "outputs": [],
   "source": [
    "big_data[big_data['source'] == 'text']['rating'].describe()"
   ]
  },
  {
   "cell_type": "code",
   "execution_count": null,
   "id": "ab76acfd",
   "metadata": {},
   "outputs": [],
   "source": [
    "abs(big_data[big_data['source'] == 'image']['rating'].describe() - big_data[big_data['source'] == 'text']['rating'].describe())"
   ]
  },
  {
   "cell_type": "code",
   "execution_count": null,
   "id": "090778ac",
   "metadata": {},
   "outputs": [],
   "source": [
    "big_data[big_data['source'] == 'text_image']['rating'].describe()"
   ]
  },
  {
   "cell_type": "code",
   "execution_count": null,
   "id": "91994741",
   "metadata": {},
   "outputs": [],
   "source": [
    "import seaborn as sns\n",
    "import matplotlib.pyplot as plt\n",
    "\n",
    "mean_ratings_by_env = big_data.groupby(['source', 'environment'])['rating'].mean().reset_index()\n",
    "mean_ratings_by_source = big_data.groupby('source')['rating'].mean().reset_index()\n",
    "\n",
    "plt.figure(figsize=(14, 8))\n",
    "sns.set_style(\"whitegrid\")\n",
    "\n",
    "ax = sns.barplot(x='source', y='rating', hue='environment', data=mean_ratings_by_env, palette='viridis')\n",
    "\n",
    "for i, source in enumerate(mean_ratings_by_source['source']):\n",
    "    mean_value = mean_ratings_by_source.loc[mean_ratings_by_source['source'] == source, 'rating'].values[0]\n",
    "    ax.plot([i - 0.3, i + 0.3], [mean_value, mean_value], color='red', linewidth=2, linestyle='--', label='Mean by Source' if i == 0 else \"\")\n",
    "    \n",
    "ax.tick_params(axis='x', labelsize=16)\n",
    "ax.tick_params(axis='y', labelsize=16)\n",
    "plt.title('Mean Rating by Source and Environment', fontsize=7+16)\n",
    "plt.xlabel('Source', fontsize=7+12)\n",
    "plt.ylabel('Mean Rating', fontsize=7+12)\n",
    "plt.legend(title='Environment', title_fontsize=7+12, fontsize=7+10, loc='upper left')\n",
    "\n",
    "\n",
    "plt.tight_layout()\n",
    "plt.show()\n"
   ]
  }
 ],
 "metadata": {
  "kernelspec": {
   "display_name": "p313",
   "language": "python",
   "name": "python3"
  },
  "language_info": {
   "codemirror_mode": {
    "name": "ipython",
    "version": 3
   },
   "file_extension": ".py",
   "mimetype": "text/x-python",
   "name": "python",
   "nbconvert_exporter": "python",
   "pygments_lexer": "ipython3",
   "version": "3.13.1"
  }
 },
 "nbformat": 4,
 "nbformat_minor": 5
}
