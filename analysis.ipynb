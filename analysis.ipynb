{
 "cells": [
  {
   "cell_type": "markdown",
   "id": "0489ccdd",
   "metadata": {},
   "source": [
    "# Analysis"
   ]
  },
  {
   "cell_type": "code",
   "execution_count": 60,
   "id": "27b8c757",
   "metadata": {},
   "outputs": [],
   "source": [
    "import pandas as pd\n",
    "import numpy as np\n",
    "import os"
   ]
  },
  {
   "cell_type": "code",
   "execution_count": 61,
   "id": "75aae3d7",
   "metadata": {},
   "outputs": [
    {
     "data": {
      "text/html": [
       "<div>\n",
       "<style scoped>\n",
       "    .dataframe tbody tr th:only-of-type {\n",
       "        vertical-align: middle;\n",
       "    }\n",
       "\n",
       "    .dataframe tbody tr th {\n",
       "        vertical-align: top;\n",
       "    }\n",
       "\n",
       "    .dataframe thead th {\n",
       "        text-align: right;\n",
       "    }\n",
       "</style>\n",
       "<table border=\"1\" class=\"dataframe\">\n",
       "  <thead>\n",
       "    <tr style=\"text-align: right;\">\n",
       "      <th></th>\n",
       "      <th>video_name</th>\n",
       "      <th>environment</th>\n",
       "      <th>understand</th>\n",
       "      <th>comment</th>\n",
       "      <th>rating</th>\n",
       "      <th>source</th>\n",
       "    </tr>\n",
       "  </thead>\n",
       "  <tbody>\n",
       "    <tr>\n",
       "      <th>0</th>\n",
       "      <td>0_Hopper-v5_749072-episode-0.mp4</td>\n",
       "      <td>Hopper-v5</td>\n",
       "      <td>5</td>\n",
       "      <td>left side</td>\n",
       "      <td>1</td>\n",
       "      <td>image</td>\n",
       "    </tr>\n",
       "    <tr>\n",
       "      <th>1</th>\n",
       "      <td>0_Hopper-v5_51198-episode-0.mp4</td>\n",
       "      <td>Hopper-v5</td>\n",
       "      <td>5</td>\n",
       "      <td>I don't this things jump too high but since we...</td>\n",
       "      <td>4</td>\n",
       "      <td>text</td>\n",
       "    </tr>\n",
       "    <tr>\n",
       "      <th>2</th>\n",
       "      <td>0_Swimmer-v5_156005-episode-0.mp4</td>\n",
       "      <td>Swimmer-v5</td>\n",
       "      <td>5</td>\n",
       "      <td>I think the mouvement is too big</td>\n",
       "      <td>3</td>\n",
       "      <td>image</td>\n",
       "    </tr>\n",
       "    <tr>\n",
       "      <th>3</th>\n",
       "      <td>0_LunarLander-v3_616521-episode-0.mp4</td>\n",
       "      <td>LunarLander-v3</td>\n",
       "      <td>5</td>\n",
       "      <td>Dont know what happen to the rocket maybe he i...</td>\n",
       "      <td>3</td>\n",
       "      <td>text</td>\n",
       "    </tr>\n",
       "    <tr>\n",
       "      <th>4</th>\n",
       "      <td>0_Hopper-v5_375905-episode-0.mp4</td>\n",
       "      <td>Hopper-v5</td>\n",
       "      <td>5</td>\n",
       "      <td>Look fine but not all part of your object move...</td>\n",
       "      <td>4</td>\n",
       "      <td>text_image</td>\n",
       "    </tr>\n",
       "    <tr>\n",
       "      <th>...</th>\n",
       "      <td>...</td>\n",
       "      <td>...</td>\n",
       "      <td>...</td>\n",
       "      <td>...</td>\n",
       "      <td>...</td>\n",
       "      <td>...</td>\n",
       "    </tr>\n",
       "    <tr>\n",
       "      <th>115</th>\n",
       "      <td>0_Hopper-v5_849864-episode-0.mp4</td>\n",
       "      <td>Hopper-v5</td>\n",
       "      <td>5</td>\n",
       "      <td>NaN</td>\n",
       "      <td>1</td>\n",
       "      <td>text_image</td>\n",
       "    </tr>\n",
       "    <tr>\n",
       "      <th>116</th>\n",
       "      <td>0_highway-fast-v0_777634-episode-0.mp4</td>\n",
       "      <td>highway-fast-v0</td>\n",
       "      <td>5</td>\n",
       "      <td>NaN</td>\n",
       "      <td>5</td>\n",
       "      <td>image</td>\n",
       "    </tr>\n",
       "    <tr>\n",
       "      <th>117</th>\n",
       "      <td>0_Swimmer-v5_551131-episode-0.mp4</td>\n",
       "      <td>Swimmer-v5</td>\n",
       "      <td>5</td>\n",
       "      <td>NaN</td>\n",
       "      <td>1</td>\n",
       "      <td>text_image</td>\n",
       "    </tr>\n",
       "    <tr>\n",
       "      <th>118</th>\n",
       "      <td>0_LunarLander-v3_781334-episode-0.mp4</td>\n",
       "      <td>LunarLander-v3</td>\n",
       "      <td>5</td>\n",
       "      <td>NaN</td>\n",
       "      <td>1</td>\n",
       "      <td>text</td>\n",
       "    </tr>\n",
       "    <tr>\n",
       "      <th>119</th>\n",
       "      <td>0_LunarLander-v3_307547-episode-0.mp4</td>\n",
       "      <td>LunarLander-v3</td>\n",
       "      <td>5</td>\n",
       "      <td>NaN</td>\n",
       "      <td>1</td>\n",
       "      <td>image</td>\n",
       "    </tr>\n",
       "  </tbody>\n",
       "</table>\n",
       "<p>1777 rows × 6 columns</p>\n",
       "</div>"
      ],
      "text/plain": [
       "                                 video_name      environment  understand  \\\n",
       "0          0_Hopper-v5_749072-episode-0.mp4        Hopper-v5           5   \n",
       "1           0_Hopper-v5_51198-episode-0.mp4        Hopper-v5           5   \n",
       "2         0_Swimmer-v5_156005-episode-0.mp4       Swimmer-v5           5   \n",
       "3     0_LunarLander-v3_616521-episode-0.mp4   LunarLander-v3           5   \n",
       "4          0_Hopper-v5_375905-episode-0.mp4        Hopper-v5           5   \n",
       "..                                      ...              ...         ...   \n",
       "115        0_Hopper-v5_849864-episode-0.mp4        Hopper-v5           5   \n",
       "116  0_highway-fast-v0_777634-episode-0.mp4  highway-fast-v0           5   \n",
       "117       0_Swimmer-v5_551131-episode-0.mp4       Swimmer-v5           5   \n",
       "118   0_LunarLander-v3_781334-episode-0.mp4   LunarLander-v3           5   \n",
       "119   0_LunarLander-v3_307547-episode-0.mp4   LunarLander-v3           5   \n",
       "\n",
       "                                               comment  rating      source  \n",
       "0                                           left side        1       image  \n",
       "1    I don't this things jump too high but since we...       4        text  \n",
       "2                    I think the mouvement is too big        3       image  \n",
       "3    Dont know what happen to the rocket maybe he i...       3        text  \n",
       "4    Look fine but not all part of your object move...       4  text_image  \n",
       "..                                                 ...     ...         ...  \n",
       "115                                                NaN       1  text_image  \n",
       "116                                                NaN       5       image  \n",
       "117                                                NaN       1  text_image  \n",
       "118                                                NaN       1        text  \n",
       "119                                                NaN       1       image  \n",
       "\n",
       "[1777 rows x 6 columns]"
      ]
     },
     "execution_count": 61,
     "metadata": {},
     "output_type": "execute_result"
    }
   ],
   "source": [
    "big_data = None\n",
    "DIR = './csv/'\n",
    "for file in os.listdir(DIR):\n",
    "\tdata = pd.read_csv(DIR+file)\n",
    "\tbig_data = pd.concat((big_data,data))\n",
    "big_data"
   ]
  },
  {
   "cell_type": "code",
   "execution_count": 62,
   "id": "ceff63bc",
   "metadata": {},
   "outputs": [],
   "source": [
    "big_data_wu = big_data[big_data['understand'] >= 3]\n",
    "big_data_bu = big_data[big_data['understand'] < 3]"
   ]
  },
  {
   "cell_type": "code",
   "execution_count": 63,
   "id": "18639ff2",
   "metadata": {},
   "outputs": [
    {
     "data": {
      "text/plain": [
       "'Hopper-v5'"
      ]
     },
     "metadata": {},
     "output_type": "display_data"
    },
    {
     "data": {
      "text/plain": [
       "'image'"
      ]
     },
     "metadata": {},
     "output_type": "display_data"
    },
    {
     "data": {
      "text/plain": [
       "count    145.000000\n",
       "mean       0.739726\n",
       "std             NaN\n",
       "min        0.000000\n",
       "25%        0.000000\n",
       "50%        0.000000\n",
       "75%        1.000000\n",
       "max        4.000000\n",
       "Name: rating, dtype: float64"
      ]
     },
     "metadata": {},
     "output_type": "display_data"
    },
    {
     "data": {
      "text/plain": [
       "'text'"
      ]
     },
     "metadata": {},
     "output_type": "display_data"
    },
    {
     "data": {
      "text/plain": [
       "count    144.000000\n",
       "mean       1.965753\n",
       "std        1.559904\n",
       "min        0.000000\n",
       "25%        0.000000\n",
       "50%        2.000000\n",
       "75%        4.000000\n",
       "max        4.000000\n",
       "Name: rating, dtype: float64"
      ]
     },
     "metadata": {},
     "output_type": "display_data"
    },
    {
     "data": {
      "text/plain": [
       "'text_image'"
      ]
     },
     "metadata": {},
     "output_type": "display_data"
    },
    {
     "data": {
      "text/plain": [
       "count    148.000000\n",
       "mean       1.630872\n",
       "std             NaN\n",
       "min        0.000000\n",
       "25%        0.000000\n",
       "50%        1.000000\n",
       "75%        3.000000\n",
       "max        4.000000\n",
       "Name: rating, dtype: float64"
      ]
     },
     "metadata": {},
     "output_type": "display_data"
    },
    {
     "data": {
      "text/plain": [
       "'Swimmer-v5'"
      ]
     },
     "metadata": {},
     "output_type": "display_data"
    },
    {
     "data": {
      "text/plain": [
       "'image'"
      ]
     },
     "metadata": {},
     "output_type": "display_data"
    },
    {
     "data": {
      "text/plain": [
       "count    146.000000\n",
       "mean       0.081633\n",
       "std             NaN\n",
       "min       -1.000000\n",
       "25%       -1.000000\n",
       "50%       -1.000000\n",
       "75%        1.000000\n",
       "max        3.000000\n",
       "Name: rating, dtype: float64"
      ]
     },
     "metadata": {},
     "output_type": "display_data"
    },
    {
     "data": {
      "text/plain": [
       "'text'"
      ]
     },
     "metadata": {},
     "output_type": "display_data"
    },
    {
     "data": {
      "text/plain": [
       "count    146.0\n",
       "mean       NaN\n",
       "std        NaN\n",
       "min        NaN\n",
       "25%        NaN\n",
       "50%        NaN\n",
       "75%        NaN\n",
       "max        NaN\n",
       "Name: rating, dtype: float64"
      ]
     },
     "metadata": {},
     "output_type": "display_data"
    },
    {
     "data": {
      "text/plain": [
       "'text_image'"
      ]
     },
     "metadata": {},
     "output_type": "display_data"
    },
    {
     "data": {
      "text/plain": [
       "count    147.000000\n",
       "mean       0.067568\n",
       "std             NaN\n",
       "min       -1.000000\n",
       "25%       -1.000000\n",
       "50%        0.000000\n",
       "75%        1.000000\n",
       "max        3.000000\n",
       "Name: rating, dtype: float64"
      ]
     },
     "metadata": {},
     "output_type": "display_data"
    },
    {
     "data": {
      "text/plain": [
       "'LunarLander-v3'"
      ]
     },
     "metadata": {},
     "output_type": "display_data"
    },
    {
     "data": {
      "text/plain": [
       "'image'"
      ]
     },
     "metadata": {},
     "output_type": "display_data"
    },
    {
     "data": {
      "text/plain": [
       "count    146.000000\n",
       "mean       1.190476\n",
       "std             NaN\n",
       "min        0.000000\n",
       "25%        0.000000\n",
       "50%        0.000000\n",
       "75%        2.500000\n",
       "max        4.000000\n",
       "Name: rating, dtype: float64"
      ]
     },
     "metadata": {},
     "output_type": "display_data"
    },
    {
     "data": {
      "text/plain": [
       "'text'"
      ]
     },
     "metadata": {},
     "output_type": "display_data"
    },
    {
     "data": {
      "text/plain": [
       "count    149.0\n",
       "mean       NaN\n",
       "std        NaN\n",
       "min        NaN\n",
       "25%        NaN\n",
       "50%        NaN\n",
       "75%        NaN\n",
       "max        NaN\n",
       "Name: rating, dtype: float64"
      ]
     },
     "metadata": {},
     "output_type": "display_data"
    },
    {
     "data": {
      "text/plain": [
       "'text_image'"
      ]
     },
     "metadata": {},
     "output_type": "display_data"
    },
    {
     "data": {
      "text/plain": [
       "count    145.0\n",
       "mean       NaN\n",
       "std        NaN\n",
       "min        NaN\n",
       "25%        NaN\n",
       "50%        NaN\n",
       "75%        NaN\n",
       "max        NaN\n",
       "Name: rating, dtype: float64"
      ]
     },
     "metadata": {},
     "output_type": "display_data"
    },
    {
     "data": {
      "text/plain": [
       "'highway-fast-v0'"
      ]
     },
     "metadata": {},
     "output_type": "display_data"
    },
    {
     "data": {
      "text/plain": [
       "'image'"
      ]
     },
     "metadata": {},
     "output_type": "display_data"
    },
    {
     "data": {
      "text/plain": [
       "count    147.000000\n",
       "mean       1.554054\n",
       "std             NaN\n",
       "min        0.000000\n",
       "25%        0.000000\n",
       "50%        1.000000\n",
       "75%        3.000000\n",
       "max        4.000000\n",
       "Name: rating, dtype: float64"
      ]
     },
     "metadata": {},
     "output_type": "display_data"
    },
    {
     "data": {
      "text/plain": [
       "'text'"
      ]
     },
     "metadata": {},
     "output_type": "display_data"
    },
    {
     "data": {
      "text/plain": [
       "count    151.0\n",
       "mean       NaN\n",
       "std        NaN\n",
       "min        NaN\n",
       "25%        NaN\n",
       "50%        NaN\n",
       "75%        NaN\n",
       "max        NaN\n",
       "Name: rating, dtype: float64"
      ]
     },
     "metadata": {},
     "output_type": "display_data"
    },
    {
     "data": {
      "text/plain": [
       "'text_image'"
      ]
     },
     "metadata": {},
     "output_type": "display_data"
    },
    {
     "data": {
      "text/plain": [
       "count    147.0\n",
       "mean       NaN\n",
       "std        NaN\n",
       "min        NaN\n",
       "25%        NaN\n",
       "50%        NaN\n",
       "75%        NaN\n",
       "max        NaN\n",
       "Name: rating, dtype: float64"
      ]
     },
     "metadata": {},
     "output_type": "display_data"
    }
   ],
   "source": [
    "for env in big_data.environment.unique():\n",
    "\tdisplay(env)\n",
    "\tfor src in big_data.source.unique():\n",
    "\t\tdisplay(src)\n",
    "\t\tfiltered_data_wu = big_data_wu[(big_data_wu['environment'] == env) & (big_data_wu['source'] == src)]\n",
    "\t\tfiltered_data_bu = big_data_bu[(big_data_bu['environment'] == env) & (big_data_bu['source'] == src)]\n",
    "\t\tdisplay(filtered_data_wu['rating'].describe() - filtered_data_bu['rating'].describe())\n"
   ]
  },
  {
   "cell_type": "code",
   "execution_count": 64,
   "id": "094c858e",
   "metadata": {},
   "outputs": [
    {
     "data": {
      "text/plain": [
       "environment\n",
       "highway-fast-v0    447\n",
       "Hopper-v5          445\n",
       "Swimmer-v5         443\n",
       "LunarLander-v3     442\n",
       "Name: count, dtype: int64"
      ]
     },
     "execution_count": 64,
     "metadata": {},
     "output_type": "execute_result"
    }
   ],
   "source": [
    "big_data['environment'].value_counts()"
   ]
  },
  {
   "cell_type": "code",
   "execution_count": 65,
   "id": "75948be3",
   "metadata": {},
   "outputs": [
    {
     "data": {
      "text/plain": [
       "source\n",
       "text          594\n",
       "image         592\n",
       "text_image    591\n",
       "Name: count, dtype: int64"
      ]
     },
     "execution_count": 65,
     "metadata": {},
     "output_type": "execute_result"
    }
   ],
   "source": [
    "big_data['source'].value_counts()"
   ]
  },
  {
   "cell_type": "code",
   "execution_count": 66,
   "id": "c4dd4bc0",
   "metadata": {},
   "outputs": [
    {
     "data": {
      "text/plain": [
       "count    1777.000000\n",
       "mean        4.891953\n",
       "std         0.414581\n",
       "min         1.000000\n",
       "25%         5.000000\n",
       "50%         5.000000\n",
       "75%         5.000000\n",
       "max         5.000000\n",
       "Name: understand, dtype: float64"
      ]
     },
     "execution_count": 66,
     "metadata": {},
     "output_type": "execute_result"
    }
   ],
   "source": [
    "big_data['understand'].describe()"
   ]
  },
  {
   "cell_type": "code",
   "execution_count": 67,
   "id": "4fac653a",
   "metadata": {},
   "outputs": [
    {
     "data": {
      "text/plain": [
       "rating\n",
       "1    742\n",
       "5    285\n",
       "2    271\n",
       "3    253\n",
       "4    226\n",
       "Name: count, dtype: int64"
      ]
     },
     "execution_count": 67,
     "metadata": {},
     "output_type": "execute_result"
    }
   ],
   "source": [
    "big_data['rating'].value_counts()"
   ]
  },
  {
   "cell_type": "code",
   "execution_count": 68,
   "id": "a71f2538",
   "metadata": {},
   "outputs": [
    {
     "data": {
      "text/plain": [
       "count    594.000000\n",
       "mean       2.784512\n",
       "std        1.553117\n",
       "min        1.000000\n",
       "25%        1.000000\n",
       "50%        3.000000\n",
       "75%        4.000000\n",
       "max        5.000000\n",
       "Name: rating, dtype: float64"
      ]
     },
     "execution_count": 68,
     "metadata": {},
     "output_type": "execute_result"
    }
   ],
   "source": [
    "big_data[big_data['source'] == 'text']['rating'].describe()"
   ]
  },
  {
   "cell_type": "code",
   "execution_count": 69,
   "id": "ab76acfd",
   "metadata": {},
   "outputs": [
    {
     "data": {
      "text/plain": [
       "count    2.000000\n",
       "mean     0.647687\n",
       "std      0.128225\n",
       "min      0.000000\n",
       "25%      0.000000\n",
       "50%      2.000000\n",
       "75%      1.000000\n",
       "max      0.000000\n",
       "Name: rating, dtype: float64"
      ]
     },
     "execution_count": 69,
     "metadata": {},
     "output_type": "execute_result"
    }
   ],
   "source": [
    "abs(big_data[big_data['source'] == 'image']['rating'].describe() - big_data[big_data['source'] == 'text']['rating'].describe())"
   ]
  },
  {
   "cell_type": "code",
   "execution_count": 70,
   "id": "090778ac",
   "metadata": {},
   "outputs": [
    {
     "data": {
      "text/plain": [
       "count    591.000000\n",
       "mean       2.458545\n",
       "std        1.502954\n",
       "min        1.000000\n",
       "25%        1.000000\n",
       "50%        2.000000\n",
       "75%        4.000000\n",
       "max        5.000000\n",
       "Name: rating, dtype: float64"
      ]
     },
     "execution_count": 70,
     "metadata": {},
     "output_type": "execute_result"
    }
   ],
   "source": [
    "big_data[big_data['source'] == 'text_image']['rating'].describe()"
   ]
  }
 ],
 "metadata": {
  "kernelspec": {
   "display_name": "llm",
   "language": "python",
   "name": "python3"
  },
  "language_info": {
   "codemirror_mode": {
    "name": "ipython",
    "version": 3
   },
   "file_extension": ".py",
   "mimetype": "text/x-python",
   "name": "python",
   "nbconvert_exporter": "python",
   "pygments_lexer": "ipython3",
   "version": "3.11.11"
  }
 },
 "nbformat": 4,
 "nbformat_minor": 5
}
